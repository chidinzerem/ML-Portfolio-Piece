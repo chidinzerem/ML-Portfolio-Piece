{
 "cells": [
  {
   "cell_type": "markdown",
   "id": "expanded-introduction",
   "metadata": {},
   "source": [
    "# Machine Learning - Citi Bank"
   ]
  },
  {
   "cell_type": "markdown",
   "id": "becoming-rover",
   "metadata": {},
   "source": [
    "I will be using this data set to illustrate different predictive analytic methods. The point of this analysis will be to showcase the use of pyspark pipelines and various classification modes and some of thier outputs"
   ]
  },
  {
   "cell_type": "markdown",
   "id": "nuclear-equivalent",
   "metadata": {},
   "source": [
    "This will be important or helpful for any predictive analysis you will have to do. The pipe lets you work with big data easier and pyspark is significantly faster when it comes to processing speed"
   ]
  },
  {
   "cell_type": "code",
   "execution_count": 1,
   "id": "suitable-tuition",
   "metadata": {},
   "outputs": [],
   "source": [
    "#library used\n",
    "from pyspark.ml.regression import GeneralizedLinearRegression\n",
    "from pyspark.ml.classification import LogisticRegression\n",
    "from pyspark.sql import SparkSession\n",
    "from pyspark.ml.feature import StringIndexer\n",
    "from pyspark.ml.feature import OneHotEncoder\n",
    "from pyspark.ml.feature import VectorAssembler\n",
    "from pyspark.ml.feature import StandardScaler\n",
    "from pyspark.ml import Pipeline\n",
    "import pandas as pd\n",
    "import numpy as np\n",
    "import sklearn\n",
    "import pandas as pd\n",
    "from pyspark.ml.linalg import Vectors\n",
    "from pyspark.ml.stat import Correlation\n",
    "from pyspark.sql import SparkSession\n",
    "from pyspark.ml import Pipeline\n",
    "from pyspark.ml.classification import GBTClassifier\n",
    "from pyspark.ml.feature import StringIndexer, VectorIndexer\n",
    "from pyspark.ml.evaluation import MulticlassClassificationEvaluator\n",
    "from pyspark.sql.functions import translate\n",
    "from pyspark.sql.types import IntegerType\n",
    "from pyspark.sql.functions import rand,when\n",
    "from pyspark.ml.feature import VectorAssembler\n",
    "from pyspark.ml import Pipeline\n",
    "from pyspark.ml.regression import GBTRegressor\n",
    "from pyspark.ml.feature import VectorIndexer\n",
    "from pyspark.ml.evaluation import RegressionEvaluator    \n",
    "import pyspark.sql.functions as func\n",
    "from pyspark.ml.classification import RandomForestClassifier\n",
    "from pyspark.ml.classification import GBTClassifier\n",
    "from pyspark.ml.classification import DecisionTreeClassifier\n",
    "import pyspark.ml.evaluation as ev\n",
    "import matplotlib.pyplot as plt"
   ]
  },
  {
   "cell_type": "code",
   "execution_count": 2,
   "id": "productive-insertion",
   "metadata": {},
   "outputs": [
    {
     "data": {
      "text/plain": [
       "Row(_c0='tripduration', _c1='starttime', _c2='stoptime', _c3='start station id', _c4='start station name', _c5='start station latitude', _c6='start station longitude', _c7='end station id', _c8='end station name', _c9='end station latitude', _c10='end station longitude', _c11='bikeid', _c12='usertype', _c13='birth year', _c14='gender', _c15='subscriber', _c16='day_of_week', _c17='weekend', _c18='duration_minutes')"
      ]
     },
     "execution_count": 2,
     "metadata": {},
     "output_type": "execute_result"
    }
   ],
   "source": [
    "#connecting spark and calling the data\n",
    "spark = SparkSession.builder.master('local[2]').config(\"spark.executor.memory\",\"1g\").config(\"spark.drive.memory\",\"1g\").appName('spark_sh_data').getOrCreate()\n",
    "df = spark.read.options(header=None, nullValue='NULL', inferSchema=True).option('nullValue','null').csv('bikeClean2.csv')\n",
    "df.head()"
   ]
  },
  {
   "cell_type": "code",
   "execution_count": 3,
   "id": "ideal-algeria",
   "metadata": {},
   "outputs": [],
   "source": [
    "#drop not needed columns\n",
    "dfnew = df.drop(*['_c4', '_c8', '_c12'])"
   ]
  },
  {
   "cell_type": "code",
   "execution_count": 4,
   "id": "announced-clark",
   "metadata": {},
   "outputs": [],
   "source": [
    "#change columns to int so can perform predicitons and easier for pipe\n",
    "newDf1 = dfnew.withColumn('_c0', df[\"_c0\"].cast(IntegerType())).withColumn('_c1', df[\"_c1\"].cast(IntegerType())).withColumn('_c2', df[\"_c2\"].cast(IntegerType()))\\\n",
    "        .withColumn('_c3', df[\"_c3\"].cast(IntegerType())).withColumn('_c5', df[\"_c5\"].cast(IntegerType()))\\\n",
    "        .withColumn('_c6', df[\"_c6\"].cast(IntegerType())).withColumn('_c7', df[\"_c7\"].cast(IntegerType()))\\\n",
    "        .withColumn('_c9', df[\"_c9\"].cast(IntegerType())).withColumn('_c10', df[\"_c10\"].cast(IntegerType()))\\\n",
    "        .withColumn('_c11', df[\"_c11\"].cast(IntegerType())).withColumn('_c13', df[\"_c13\"].cast(IntegerType()))\\\n",
    "        .withColumn('_c14', df[\"_c14\"].cast(IntegerType())).withColumn('_c15', df[\"_c15\"].cast(IntegerType()))\\\n",
    "        .withColumn('_c17', df[\"_c17\"].cast(IntegerType())).withColumn('_c18', df[\"_c18\"].cast(IntegerType()))"
   ]
  },
  {
   "cell_type": "code",
   "execution_count": 5,
   "id": "center-wellington",
   "metadata": {},
   "outputs": [
    {
     "name": "stdout",
     "output_type": "stream",
     "text": [
      "root\n",
      " |-- _c0: integer (nullable = true)\n",
      " |-- _c1: integer (nullable = true)\n",
      " |-- _c2: integer (nullable = true)\n",
      " |-- _c3: integer (nullable = true)\n",
      " |-- _c5: integer (nullable = true)\n",
      " |-- _c6: integer (nullable = true)\n",
      " |-- _c7: integer (nullable = true)\n",
      " |-- _c9: integer (nullable = true)\n",
      " |-- _c10: integer (nullable = true)\n",
      " |-- _c11: integer (nullable = true)\n",
      " |-- _c13: integer (nullable = true)\n",
      " |-- _c14: integer (nullable = true)\n",
      " |-- _c15: integer (nullable = true)\n",
      " |-- _c16: string (nullable = true)\n",
      " |-- _c17: integer (nullable = true)\n",
      " |-- _c18: integer (nullable = true)\n",
      "\n"
     ]
    }
   ],
   "source": [
    "#check schema\n",
    "newDf1.printSchema()"
   ]
  },
  {
   "cell_type": "code",
   "execution_count": 6,
   "id": "breathing-wallace",
   "metadata": {},
   "outputs": [
    {
     "name": "stdout",
     "output_type": "stream",
     "text": [
      "+----+----+----+----+----+----+----+----+----+-----+----+----+----+-----------+----+----+\n",
      "| _c0| _c1| _c2| _c3| _c5| _c6| _c7| _c9|_c10| _c11|_c13|_c14|_c15|       _c16|_c17|_c18|\n",
      "+----+----+----+----+----+----+----+----+----+-----+----+----+----+-----------+----+----+\n",
      "|null|null|null|null|null|null|null|null|null| null|null|null|null|day_of_week|null|null|\n",
      "| 897|   1|   1| 493|  40| -73| 454|  40| -73|18340|1966|   1|   2|     Monday|   0|  14|\n",
      "| 267|   1|   1|3143|  40| -73|3226|  40| -73|21458|1996|   1|   1|     Monday|   0|   4|\n",
      "|2201|   1|   1| 317|  40| -73|3469|  40| -73|39874|1986|   1|   2|     Monday|   0|  36|\n",
      "|1660|   1|   1| 249|  40| -74| 369|  40| -74|38865|1988|   1|   2|     Monday|   0|  27|\n",
      "| 109|   1|   1|3552|  40| -73|3538|  40| -73|30256|1997|   1|   2|     Monday|   0|   1|\n",
      "| 106|   1|   1|3593|  40| -73|3592|  40| -73|16875|1988|   1|   2|     Monday|   0|   1|\n",
      "| 550|   1|   1|3507|  40| -73|3553|  40| -73|34139|1992|   1|   2|     Monday|   0|   9|\n",
      "| 338|   1|   1| 478|  40| -73| 388|  40| -74|39703|1995|   1|   2|     Monday|   0|   5|\n",
      "| 469|   1|   1| 514|  40| -74| 458|  40| -74|28266|1989|   1|   2|     Monday|   0|   7|\n",
      "| 562|   1|   1| 116|  40| -74| 462|  40| -74|26757|1965|   1|   2|     Monday|   0|   9|\n",
      "|2420|   1|   1|3054|  40| -73|3054|  40| -73|28840|1986|   1|   2|     Monday|   0|  40|\n",
      "|1058|   1|   1|3434|  40| -73|3434|  40| -73|21038|1984|   1|   2|     Monday|   0|  17|\n",
      "| 257|   1|   1|3119|  40| -73|3118|  40| -73|25280|1988|   1|   2|     Monday|   0|   4|\n",
      "| 305|   1|   1| 402|  40| -73| 461|  40| -73|34925|1965|   1|   2|     Monday|   0|   5|\n",
      "| 366|   1|   1|3578|  40| -73|3581|  40| -73|38092|1988|   2|   2|     Monday|   0|   6|\n",
      "|1006|   1|   1| 382|  40| -73| 545|  40| -73|17972|1969|   0|   1|     Monday|   0|  16|\n",
      "| 936|   1|   1|3674|  40| -73|3795|  40| -73|31672|1965|   1|   2|     Monday|   0|  15|\n",
      "| 584|   1|   1| 455|  40| -73|3711|  40| -73|38455|1989|   1|   2|     Monday|   0|   9|\n",
      "|1147|   1|   1|3619|  40| -73|3118|  40| -73|16115|1994|   1|   2|     Monday|   0|  19|\n",
      "+----+----+----+----+----+----+----+----+----+-----+----+----+----+-----------+----+----+\n",
      "only showing top 20 rows\n",
      "\n"
     ]
    }
   ],
   "source": [
    "newDf1.show()"
   ]
  },
  {
   "cell_type": "code",
   "execution_count": 7,
   "id": "amended-spring",
   "metadata": {},
   "outputs": [],
   "source": [
    "#convert your string to int\n",
    "stringIndexer = StringIndexer().setInputCol(\"_c16\").setOutputCol(\"_c16_index\").setHandleInvalid(\"skip\")\n",
    "_16_index_model=stringIndexer.fit(newDf1)\n",
    "_16_index_df=_16_index_model.transform(newDf1)"
   ]
  },
  {
   "cell_type": "code",
   "execution_count": 8,
   "id": "southern-rachel",
   "metadata": {},
   "outputs": [],
   "source": [
    "#use the one hot encoder on that stringindexer\n",
    "encoder = OneHotEncoder().setInputCols([\"_c16_index\"]).setOutputCols([\"_16_encoded\"])\n",
    "encoder_model=encoder.fit(_16_index_df)\n",
    "encoder_df=encoder_model.transform(_16_index_df)\n",
    "\n"
   ]
  },
  {
   "cell_type": "code",
   "execution_count": 9,
   "id": "cutting-deficit",
   "metadata": {},
   "outputs": [],
   "source": [
    "#assemble the rest of columns\n",
    "assembler = VectorAssembler().setInputCols(['_c0','_c1','_c2','_c3','_c5','_c6','_c7','_c9',\n",
    "                                            '_c10','_c11','_c13','_c14','_c17','_c18'])\\\n",
    "                    .setOutputCol(\"vectorized_features\")\\\n",
    "                        .setHandleInvalid(\"skip\")\n",
    "                                  \n",
    "assembler_df = assembler.transform(encoder_df)"
   ]
  },
  {
   "cell_type": "code",
   "execution_count": 11,
   "id": "numerous-banking",
   "metadata": {},
   "outputs": [],
   "source": [
    "#for your response variable\n",
    "label_indexer = StringIndexer().setInputCol(\"_c15\").setOutputCol(\"label\")\n",
    "\n",
    "label_indexer_model=label_indexer.fit(assembler_df)\n",
    "label_indexer_df = label_indexer_model.transform(assembler_df)"
   ]
  },
  {
   "cell_type": "code",
   "execution_count": 13,
   "id": "western-yorkshire",
   "metadata": {},
   "outputs": [],
   "source": [
    "#always scale your model\n",
    "scaler = StandardScaler().setInputCol(\"vectorized_features\").setOutputCol(\"features\")\n",
    "scaler_model=scaler.fit(label_indexer_df)\n",
    "scaler_df = scaler_model.transform(label_indexer_df)\n",
    "pd.set_option('display.max_colwidth', 100)"
   ]
  },
  {
   "cell_type": "code",
   "execution_count": 14,
   "id": "underlying-editing",
   "metadata": {},
   "outputs": [],
   "source": [
    "#put it all in a pipe\n",
    "pipeline_stages=Pipeline().setStages([stringIndexer,encoder,assembler,label_indexer,scaler])\n",
    "\n",
    "pipeline_model=pipeline_stages.fit(newDf1)\n",
    "pipeline_df=pipeline_model.transform(newDf1)"
   ]
  },
  {
   "cell_type": "code",
   "execution_count": null,
   "id": "covered-hampshire",
   "metadata": {},
   "outputs": [],
   "source": []
  },
  {
   "cell_type": "markdown",
   "id": "hungarian-brunswick",
   "metadata": {},
   "source": [
    "# Analysis "
   ]
  },
  {
   "cell_type": "markdown",
   "id": "consistent-discussion",
   "metadata": {},
   "source": [
    "After you fit you pipe now you can begin your analysis. The pipe is also interesting because you could send that piped model to anyone you want with a pickle allowing them to access that large data set\n"
   ]
  },
  {
   "cell_type": "code",
   "execution_count": 15,
   "id": "marked-caution",
   "metadata": {},
   "outputs": [
    {
     "name": "stdout",
     "output_type": "stream",
     "text": [
      "Training Dataset Count: 1745133\n",
      "Test Dataset Count: 435877\n"
     ]
    }
   ],
   "source": [
    "#train model\n",
    "train, test = pipeline_df.randomSplit([0.8,0.2], seed=56)\n",
    "print(\"Training Dataset Count: \" + str(train.count()))\n",
    "print(\"Test Dataset Count: \" + str(test.count()))"
   ]
  },
  {
   "cell_type": "code",
   "execution_count": 16,
   "id": "applicable-dispute",
   "metadata": {},
   "outputs": [],
   "source": [
    "#logisticRegression\n",
    "lr = LogisticRegression(featuresCol = 'features', labelCol = 'label', maxIter=10)\n",
    "lrModel = lr.fit(train)\n",
    "lr_summary=lrModel.summary"
   ]
  },
  {
   "cell_type": "markdown",
   "id": "trying-connection",
   "metadata": {},
   "source": [
    "These are all methods of evaluating the model"
   ]
  },
  {
   "cell_type": "code",
   "execution_count": 17,
   "id": "psychological-asbestos",
   "metadata": {},
   "outputs": [
    {
     "data": {
      "text/plain": [
       "0.7093301779037383"
      ]
     },
     "execution_count": 17,
     "metadata": {},
     "output_type": "execute_result"
    }
   ],
   "source": [
    "lr_summary.areaUnderROC"
   ]
  },
  {
   "cell_type": "code",
   "execution_count": 18,
   "id": "thousand-helmet",
   "metadata": {},
   "outputs": [
    {
     "data": {
      "text/plain": [
       "0.8649357957244519"
      ]
     },
     "execution_count": 18,
     "metadata": {},
     "output_type": "execute_result"
    }
   ],
   "source": [
    "lr_summary.accuracy"
   ]
  },
  {
   "cell_type": "code",
   "execution_count": 19,
   "id": "dangerous-distinction",
   "metadata": {},
   "outputs": [
    {
     "data": {
      "text/plain": [
       "[0.8636634276746995, 0.8895521691986615]"
      ]
     },
     "execution_count": 19,
     "metadata": {},
     "output_type": "execute_result"
    }
   ],
   "source": [
    "lr_summary.precisionByLabel"
   ]
  },
  {
   "cell_type": "markdown",
   "id": "bridal-continuity",
   "metadata": {},
   "source": [
    "These are visual representation to evaluate the model"
   ]
  },
  {
   "cell_type": "code",
   "execution_count": 20,
   "id": "overhead-heavy",
   "metadata": {},
   "outputs": [
    {
     "data": {
      "image/png": "[encoded data removed]",
      "text/plain": [
       "<Figure size 432x288 with 1 Axes>"
      ]
     },
     "metadata": {
      "needs_background": "light"
     },
     "output_type": "display_data"
    }
   ],
   "source": [
    "beta = np.sort(lrModel.coefficients)\n",
    "plt.plot(beta)\n",
    "plt.ylabel('Beta Coefficients')\n",
    "plt.show()"
   ]
  },
  {
   "cell_type": "code",
   "execution_count": 21,
   "id": "breeding-farmer",
   "metadata": {},
   "outputs": [
    {
     "data": {
      "image/png": "[encoded data removed]",
      "text/plain": [
       "<Figure size 432x288 with 1 Axes>"
      ]
     },
     "metadata": {
      "needs_background": "light"
     },
     "output_type": "display_data"
    },
    {
     "name": "stdout",
     "output_type": "stream",
     "text": [
      "Training set areaUnderROC: 0.7093301779037383\n"
     ]
    }
   ],
   "source": [
    "trainingSummary = lrModel.summary\n",
    "roc = trainingSummary.roc.toPandas()\n",
    "plt.plot(roc['FPR'],roc['TPR'])\n",
    "plt.ylabel('False Positive Rate')\n",
    "plt.xlabel('True Positive Rate')\n",
    "plt.title('ROC Curve')\n",
    "plt.show()\n",
    "print('Training set areaUnderROC: ' + str(trainingSummary.areaUnderROC))"
   ]
  },
  {
   "cell_type": "markdown",
   "id": "cognitive-religion",
   "metadata": {},
   "source": [
    "Other ways to evalute accuracy of your model"
   ]
  },
  {
   "cell_type": "code",
   "execution_count": 23,
   "id": "lesser-evanescence",
   "metadata": {},
   "outputs": [
    {
     "name": "stdout",
     "output_type": "stream",
     "text": [
      "Test Area Under ROC 0.70777726934561\n"
     ]
    }
   ],
   "source": [
    "#Evaluate our Logistic Regression model.\n",
    "from pyspark.ml.evaluation import BinaryClassificationEvaluator\n",
    "evaluator = BinaryClassificationEvaluator()\n",
    "predictions = lrModel.transform(test)\n",
    "print('Test Area Under ROC', evaluator.evaluate(predictions))"
   ]
  },
  {
   "cell_type": "code",
   "execution_count": 24,
   "id": "musical-backing",
   "metadata": {},
   "outputs": [
    {
     "data": {
      "text/html": [
       "<div>\n",
       "<style scoped>\n",
       "    .dataframe tbody tr th:only-of-type {\n",
       "        vertical-align: middle;\n",
       "    }\n",
       "\n",
       "    .dataframe tbody tr th {\n",
       "        vertical-align: top;\n",
       "    }\n",
       "\n",
       "    .dataframe thead th {\n",
       "        text-align: right;\n",
       "    }\n",
       "</style>\n",
       "<table border=\"1\" class=\"dataframe\">\n",
       "  <thead>\n",
       "    <tr style=\"text-align: right;\">\n",
       "      <th></th>\n",
       "      <th>label</th>\n",
       "      <th>rawPrediction</th>\n",
       "      <th>probability</th>\n",
       "      <th>prediction</th>\n",
       "    </tr>\n",
       "  </thead>\n",
       "  <tbody>\n",
       "    <tr>\n",
       "      <th>0</th>\n",
       "      <td>0.0</td>\n",
       "      <td>[1.6449381313946918, -1.6449381313946918]</td>\n",
       "      <td>[0.8382057503093875, 0.1617942496906125]</td>\n",
       "      <td>0.0</td>\n",
       "    </tr>\n",
       "    <tr>\n",
       "      <th>1</th>\n",
       "      <td>0.0</td>\n",
       "      <td>[1.8621994191595799, -1.8621994191595799]</td>\n",
       "      <td>[0.8655531023455828, 0.1344468976544172]</td>\n",
       "      <td>0.0</td>\n",
       "    </tr>\n",
       "    <tr>\n",
       "      <th>2</th>\n",
       "      <td>0.0</td>\n",
       "      <td>[2.4427193225463792, -2.4427193225463792]</td>\n",
       "      <td>[0.9200273960522601, 0.07997260394773986]</td>\n",
       "      <td>0.0</td>\n",
       "    </tr>\n",
       "    <tr>\n",
       "      <th>3</th>\n",
       "      <td>1.0</td>\n",
       "      <td>[-0.0151081397858579, 0.0151081397858579]</td>\n",
       "      <td>[0.4962230368961011, 0.5037769631038989]</td>\n",
       "      <td>1.0</td>\n",
       "    </tr>\n",
       "    <tr>\n",
       "      <th>4</th>\n",
       "      <td>0.0</td>\n",
       "      <td>[1.6164169816927116, -1.6164169816927116]</td>\n",
       "      <td>[0.8343003948531139, 0.1656996051468861]</td>\n",
       "      <td>0.0</td>\n",
       "    </tr>\n",
       "  </tbody>\n",
       "</table>\n",
       "</div>"
      ],
      "text/plain": [
       "   label                              rawPrediction  \\\n",
       "0    0.0  [1.6449381313946918, -1.6449381313946918]   \n",
       "1    0.0  [1.8621994191595799, -1.8621994191595799]   \n",
       "2    0.0  [2.4427193225463792, -2.4427193225463792]   \n",
       "3    1.0  [-0.0151081397858579, 0.0151081397858579]   \n",
       "4    0.0  [1.6164169816927116, -1.6164169816927116]   \n",
       "\n",
       "                                 probability  prediction  \n",
       "0   [0.8382057503093875, 0.1617942496906125]         0.0  \n",
       "1   [0.8655531023455828, 0.1344468976544172]         0.0  \n",
       "2  [0.9200273960522601, 0.07997260394773986]         0.0  \n",
       "3   [0.4962230368961011, 0.5037769631038989]         1.0  \n",
       "4   [0.8343003948531139, 0.1656996051468861]         0.0  "
      ]
     },
     "execution_count": 24,
     "metadata": {},
     "output_type": "execute_result"
    }
   ],
   "source": [
    "#you can check your predictions\n",
    "predictions.select('label','rawPrediction','probability','prediction').toPandas().head(5)\n"
   ]
  },
  {
   "cell_type": "code",
   "execution_count": 25,
   "id": "going-feature",
   "metadata": {},
   "outputs": [
    {
     "name": "stdout",
     "output_type": "stream",
     "text": [
      "R Squared (R2) on test data = 0.0574956\n"
     ]
    }
   ],
   "source": [
    "from pyspark.ml.evaluation import RegressionEvaluator\n",
    "\n",
    "lr_evaluator = RegressionEvaluator(predictionCol=\"prediction\", \\\n",
    "                 labelCol='label',metricName=\"r2\")\n",
    "print(\"R Squared (R2) on test data = %g\" % lr_evaluator.evaluate(predictions))"
   ]
  },
  {
   "cell_type": "code",
   "execution_count": 26,
   "id": "convenient-playing",
   "metadata": {},
   "outputs": [
    {
     "data": {
      "text/plain": [
       "array([[358059,   2351],\n",
       "       [ 56462,  19005]])"
      ]
     },
     "execution_count": 26,
     "metadata": {},
     "output_type": "execute_result"
    }
   ],
   "source": [
    "from sklearn.metrics import confusion_matrix\n",
    "\n",
    "y_true = predictions.select(\"label\")\n",
    "y_true = y_true.toPandas()\n",
    "\n",
    "y_pred = predictions.select(\"prediction\")\n",
    "y_pred = y_pred.toPandas()\n",
    "\n",
    "cnf_matrix = confusion_matrix(y_true, y_pred)\n",
    "cnf_matrix"
   ]
  },
  {
   "cell_type": "markdown",
   "id": "meaning-distinction",
   "metadata": {},
   "source": [
    "# TakeAway"
   ]
  },
  {
   "cell_type": "markdown",
   "id": "limiting-morris",
   "metadata": {},
   "source": [
    "By the end of this you should be able to\n",
    "\n",
    "    1) Follow the steps to pipe your model with pyspark\n",
    "    \n",
    "    \n",
    "    2) Be able to evaluate a model with logistic regression as well as create some models\n",
    "    "
   ]
  },
  {
   "cell_type": "code",
   "execution_count": null,
   "id": "concrete-easter",
   "metadata": {},
   "outputs": [],
   "source": []
  }
 ],
 "metadata": {
  "kernelspec": {
   "display_name": "Python 3",
   "language": "python",
   "name": "python3"
  },
  "language_info": {
   "codemirror_mode": {
    "name": "ipython",
    "version": 3
   },
   "file_extension": ".py",
   "mimetype": "text/x-python",
   "name": "python",
   "nbconvert_exporter": "python",
   "pygments_lexer": "ipython3",
   "version": "3.8.8"
  }
 },
 "nbformat": 4,
 "nbformat_minor": 5
}
